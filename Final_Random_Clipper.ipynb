{
  "nbformat": 4,
  "nbformat_minor": 0,
  "metadata": {
    "colab": {
      "provenance": [],
      "authorship_tag": "ABX9TyMRZjNfEm3J1N47bx4VKUVX",
      "include_colab_link": true
    },
    "kernelspec": {
      "name": "python3",
      "display_name": "Python 3"
    },
    "language_info": {
      "name": "python"
    }
  },
  "cells": [
    {
      "cell_type": "markdown",
      "metadata": {
        "id": "view-in-github",
        "colab_type": "text"
      },
      "source": [
        "<a href=\"https://colab.research.google.com/github/SConstant/MRP-Birdnet-AI/blob/main/Final_Random_Clipper.ipynb\" target=\"_parent\"><img src=\"https://colab.research.google.com/assets/colab-badge.svg\" alt=\"Open In Colab\"/></a>"
      ]
    },
    {
      "cell_type": "markdown",
      "source": [
        "# MRP: Birdsong-AI\n",
        "\n",
        "## Random Audio Splitter\n",
        "\n",
        "This notebook contains code for a radom audio spitter, it will randomly select and clips of audio from larger recordings\n",
        "\n",
        "This section will randomly select 30 minute base samples from recorded dawn choruses or recordings taken from xeno-canto\n",
        "\n",
        "There are also sections that will clip up 5 minutes, 10 minutes and 15 minutes of audio."
      ],
      "metadata": {
        "id": "JJK2FgaBQ3Uo"
      }
    },
    {
      "cell_type": "markdown",
      "source": [
        "## Installations\n",
        "\n",
        "### Auto-clipper\n",
        "\n",
        "*   Pydub\n",
        "##### for audio file manipulation\n",
        "*   ffmpeg\n",
        "##### for audio codec accessibility in python\n",
        "*   glob\n",
        "##### for clipping random samples (unix thing, file names)  \n",
        "*   random\n",
        "##### for clipping random sample\n",
        "\n",
        "*   numpy\n",
        "##### working in arrays\n",
        "*   os\n",
        "##### for working with filepaths and uploading/opening files\n",
        "*   wave\n",
        "##### for working with wav file types/codecs"
      ],
      "metadata": {
        "id": "UWka5-rnW4Ou"
      }
    },
    {
      "cell_type": "markdown",
      "source": [
        "**Working with audio**"
      ],
      "metadata": {
        "id": "fEt7ALMbXua2"
      }
    },
    {
      "cell_type": "code",
      "execution_count": null,
      "metadata": {
        "colab": {
          "base_uri": "https://localhost:8080/"
        },
        "id": "qtg9GQl19dh2",
        "outputId": "99e27bc9-6512-4b6c-a9e4-c3b3a749dafd"
      },
      "outputs": [
        {
          "output_type": "stream",
          "name": "stdout",
          "text": [
            "Collecting pydub\n",
            "  Downloading pydub-0.25.1-py2.py3-none-any.whl.metadata (1.4 kB)\n",
            "Downloading pydub-0.25.1-py2.py3-none-any.whl (32 kB)\n",
            "Installing collected packages: pydub\n",
            "Successfully installed pydub-0.25.1\n"
          ]
        }
      ],
      "source": [
        "#install pydub\n",
        "!pip install pydub\n",
        "\n",
        "# import required libraries\n",
        "from pydub import AudioSegment\n",
        "from pydub.playback import play\n",
        "from os import path"
      ]
    },
    {
      "cell_type": "code",
      "source": [
        "!pip install ffmpeg-python"
      ],
      "metadata": {
        "id": "e2ZDh5r2MRwX",
        "colab": {
          "base_uri": "https://localhost:8080/"
        },
        "outputId": "1d92bf36-4af2-483a-ebac-5fda83184957"
      },
      "execution_count": null,
      "outputs": [
        {
          "output_type": "stream",
          "name": "stdout",
          "text": [
            "Collecting ffmpeg-python\n",
            "  Downloading ffmpeg_python-0.2.0-py3-none-any.whl.metadata (1.7 kB)\n",
            "Requirement already satisfied: future in /usr/local/lib/python3.10/dist-packages (from ffmpeg-python) (1.0.0)\n",
            "Downloading ffmpeg_python-0.2.0-py3-none-any.whl (25 kB)\n",
            "Installing collected packages: ffmpeg-python\n",
            "Successfully installed ffmpeg-python-0.2.0\n"
          ]
        }
      ]
    },
    {
      "cell_type": "markdown",
      "source": [
        "**Random Sampling**"
      ],
      "metadata": {
        "id": "5qyK39WfXqzP"
      }
    },
    {
      "cell_type": "code",
      "source": [
        "import glob #for random sampling\n",
        "import random #To pick random clips"
      ],
      "metadata": {
        "id": "FALZvQ2pMeTA"
      },
      "execution_count": null,
      "outputs": []
    },
    {
      "cell_type": "markdown",
      "source": [
        "**Audio Splitter**"
      ],
      "metadata": {
        "id": "P_L5YcNhX2lG"
      }
    },
    {
      "cell_type": "code",
      "source": [
        "import numpy as np # For working with arrays (file names)"
      ],
      "metadata": {
        "id": "y5ma1Ja4Mqg4"
      },
      "execution_count": null,
      "outputs": []
    },
    {
      "cell_type": "code",
      "source": [
        "import os # To manipulate filepaths and open/upload files\n",
        "import wave # To work with WAV files\n"
      ],
      "metadata": {
        "id": "G9D-j7-Pu07x"
      },
      "execution_count": null,
      "outputs": []
    },
    {
      "cell_type": "markdown",
      "source": [
        "**Mount Drive**"
      ],
      "metadata": {
        "id": "tYJcnw5eYKIO"
      }
    },
    {
      "cell_type": "code",
      "source": [
        "from google.colab import drive\n",
        "drive.mount('/content/drive')"
      ],
      "metadata": {
        "id": "N8EnYwnnoSpc",
        "colab": {
          "base_uri": "https://localhost:8080/"
        },
        "outputId": "6a6ee26e-39a4-473b-e22e-3fcfc130df8a"
      },
      "execution_count": null,
      "outputs": [
        {
          "output_type": "stream",
          "name": "stdout",
          "text": [
            "Mounted at /content/drive\n"
          ]
        }
      ]
    },
    {
      "cell_type": "code",
      "source": [
        "# changing working directory\n",
        "\n",
        "def current_path():\n",
        "    print(\"Current working directory before\")\n",
        "    print(os.getcwd())\n",
        "    print()"
      ],
      "metadata": {
        "id": "IzWLJ-b1-xbK"
      },
      "execution_count": null,
      "outputs": []
    },
    {
      "cell_type": "code",
      "source": [
        "# Printing CWD before\n",
        "current_path()\n",
        "\n",
        "# Changing the CWD\n",
        "os.chdir('/content/drive/MyDrive/BirdNet/Test_files/birdsong_wav')\n",
        "\n",
        "# Printing CWD after\n",
        "current_path()"
      ],
      "metadata": {
        "colab": {
          "base_uri": "https://localhost:8080/"
        },
        "id": "hO6NDpenzwoU",
        "outputId": "4a9f2da8-ea48-415a-c91a-d4864992796f"
      },
      "execution_count": null,
      "outputs": [
        {
          "output_type": "stream",
          "name": "stdout",
          "text": [
            "Current working directory before\n",
            "/content\n",
            "\n",
            "Current working directory before\n",
            "/content/drive/MyDrive/BirdNet/Test_files/birdsong_wav\n",
            "\n"
          ]
        }
      ]
    },
    {
      "cell_type": "markdown",
      "source": [
        "## Random Auto-clipper\n",
        "\n",
        "picks a random point to clip a section of a specified duration\n",
        "\n",
        "Use this to randomly clip 30 minute segments"
      ],
      "metadata": {
        "id": "cn060zC4WN70"
      }
    },
    {
      "cell_type": "code",
      "source": [
        "import os\n",
        "import random\n",
        "from pydub import AudioSegment"
      ],
      "metadata": {
        "id": "fydBt2uxkzCI"
      },
      "execution_count": null,
      "outputs": []
    },
    {
      "cell_type": "markdown",
      "source": [
        "###30 minute clips\n",
        "\n",
        "code for creating 30 minute clips, in new folders, and naming the clips with the orginal file name, suffixed with 30 to denote its duration."
      ],
      "metadata": {
        "id": "KIUOy2DP3wcC"
      }
    },
    {
      "cell_type": "code",
      "source": [
        "def random_clip(input_file, output_file, clip_duration):\n",
        "    audio = AudioSegment.from_file(input_file)  # Loading audio file\n",
        "    max_start = len(audio) - clip_duration  # Calculating maximum start position\n",
        "    start_pos = random.randint(0, max_start)  # For a random start position\n",
        "    clipped_audio = audio[start_pos:start_pos + clip_duration]  # For the clipping\n",
        "    clipped_audio.export(output_file, format=\"wav\")  # Export the audio to WAV\n",
        "\n",
        "def main(input_file, output_folder, num_clips=5, clip_duration_minutes=30):\n",
        "    \"\"\"\n",
        "    Args:\n",
        "      input_file: Path to the input audio file.\n",
        "      output_folder: Path to the folder where clips will be saved.\n",
        "      num_clips: Number of clips to generate.\n",
        "      clip_duration_minutes: Duration of each clip in minutes.\n",
        "    \"\"\"\n",
        "    # Ensure the output folder exists\n",
        "    if not os.path.exists(output_folder):\n",
        "        os.makedirs(output_folder)\n",
        "\n",
        "    clip_duration = clip_duration_minutes * 60 * 1000  # Convert duration to milliseconds\n",
        "\n",
        "    # Extract the base name of the input file without extension\n",
        "    base_name = os.path.splitext(os.path.basename(input_file))[0]\n",
        "\n",
        "    # For loop for multiple clips\n",
        "    for i in range(num_clips):\n",
        "        output_file = os.path.join(output_folder, f\"{base_name}_clip_{i+1}_30.WAV\") # suffix the base name here (with 30 to denote duration in minutes)\n",
        "        random_clip(input_file, output_file, clip_duration)\n",
        "\n",
        "if __name__ == \"__main__\":\n",
        "    input_file = \"/content/drive/MyDrive/BirdNet/Test_files/birdsong_wav/XC554242 - Soundscape.wav\"\n",
        "    output_folder = \"/content/drive/MyDrive/BirdNet/Test_files/birdsong_wav/30_min_test_clips/XC554242\"\n",
        "    num_clips = 1 # Select number of clips to create here\n",
        "    clip_duration_minutes = 30 # Select duration of individual clips here\n",
        "    main(input_file, output_folder, num_clips, clip_duration_minutes)"
      ],
      "metadata": {
        "id": "10o4KHKqJiiR"
      },
      "execution_count": null,
      "outputs": []
    },
    {
      "cell_type": "markdown",
      "source": [
        "###5 minute clips\n",
        "\n",
        "Code for creating 5 minute clips, in new folders, and naming the clips with the orginal file name, suffixed with 5 to denote its duration."
      ],
      "metadata": {
        "id": "PcVDz2hQ4JJb"
      }
    },
    {
      "cell_type": "code",
      "source": [
        "def random_clip(input_file, output_file, clip_duration):\n",
        "    audio = AudioSegment.from_file(input_file)  # Loading audio file\n",
        "    max_start = len(audio) - clip_duration  # Calculating maximum start position\n",
        "    start_pos = random.randint(0, max_start)  # For a random start position\n",
        "    clipped_audio = audio[start_pos:start_pos + clip_duration]  # For the clipping\n",
        "    clipped_audio.export(output_file, format=\"wav\")  # Export the audio to WAV\n",
        "\n",
        "def main(input_file, output_folder, num_clips=5, clip_duration_minutes=30):\n",
        "    \"\"\"\n",
        "    Args:\n",
        "      input_file: Path to the input audio file.\n",
        "      output_folder: Path to the folder where clips will be saved.\n",
        "      num_clips: Number of clips to generate.\n",
        "      clip_duration_minutes: Duration of each clip in minutes.\n",
        "    \"\"\"\n",
        "    # Ensure the output folder exists\n",
        "    if not os.path.exists(output_folder):\n",
        "        os.makedirs(output_folder)\n",
        "\n",
        "    clip_duration = clip_duration_minutes * 60 * 1000  # Convert duration to milliseconds\n",
        "\n",
        "    # Extract the base name of the input file without extension\n",
        "    base_name = os.path.splitext(os.path.basename(input_file))[0]\n",
        "\n",
        "    # For loop for multiple clips\n",
        "    for i in range(num_clips):\n",
        "        output_file = os.path.join(output_folder, f\"{base_name}_clip_{i+1}_5.WAV\") # suffix the base name here (with 5 to denote duration in minutes)\n",
        "        random_clip(input_file, output_file, clip_duration)\n",
        "\n",
        "if __name__ == \"__main__\":\n",
        "    input_file = \"/content/drive/MyDrive/BirdNet/Test_files/birdsong_wav/30_min_test_clips/XC660688/XC660688 - Soundscape_clip_1_30.WAV\"\n",
        "    output_folder = \"/content/drive/MyDrive/BirdNet/Test_files/birdsong_wav/30_min_test_clips/XC660688/5_min\"\n",
        "    num_clips = 30 # Select number of clips to create here\n",
        "    clip_duration_minutes = 5 # Select duration of individual clips here\n",
        "    main(input_file, output_folder, num_clips, clip_duration_minutes)"
      ],
      "metadata": {
        "id": "SWSgy34S4P7p"
      },
      "execution_count": null,
      "outputs": []
    },
    {
      "cell_type": "markdown",
      "source": [
        "###10 minute clips\n",
        "\n",
        "Code for creating 10 minute clips, in new folders, and naming the clips with the orginal file name, suffixed with 10 to denote its duration."
      ],
      "metadata": {
        "id": "8swQaCJo8Qec"
      }
    },
    {
      "cell_type": "code",
      "source": [
        "def random_clip(input_file, output_file, clip_duration):\n",
        "    audio = AudioSegment.from_file(input_file)  # Loading audio file\n",
        "    max_start = len(audio) - clip_duration  # Calculating maximum start position\n",
        "    start_pos = random.randint(0, max_start)  # For a random start position\n",
        "    clipped_audio = audio[start_pos:start_pos + clip_duration]  # For the clipping\n",
        "    clipped_audio.export(output_file, format=\"wav\")  # Export the audio to WAV\n",
        "\n",
        "def main(input_file, output_folder, num_clips=5, clip_duration_minutes=30):\n",
        "    \"\"\"\n",
        "    Args:\n",
        "      input_file: Path to the input audio file.\n",
        "      output_folder: Path to the folder where clips will be saved.\n",
        "      num_clips: Number of clips to generate.\n",
        "      clip_duration_minutes: Duration of each clip in minutes.\n",
        "    \"\"\"\n",
        "    # Ensure the output folder exists\n",
        "    if not os.path.exists(output_folder):\n",
        "        os.makedirs(output_folder)\n",
        "\n",
        "    clip_duration = clip_duration_minutes * 60 * 1000  # Convert duration to milliseconds\n",
        "\n",
        "    # Extract the base name of the input file without extension\n",
        "    base_name = os.path.splitext(os.path.basename(input_file))[0]\n",
        "\n",
        "    # For loop for multiple clips\n",
        "    for i in range(num_clips):\n",
        "        output_file = os.path.join(output_folder, f\"{base_name}_clip_{i+1}_10.WAV\") # suffix the base name here (with 10 to denote duration in minutes)\n",
        "        random_clip(input_file, output_file, clip_duration)\n",
        "\n",
        "if __name__ == \"__main__\":\n",
        "    input_file = \"/content/drive/MyDrive/BirdNet/Test_files/birdsong_wav/XC554242 - Soundscape.wav\"\n",
        "    output_folder = \"/content/drive/MyDrive/BirdNet/Test_files/birdsong_wav/30_min_test_clips/XC554242/10_min\"\n",
        "    num_clips = 3 # Select number of clips to create here\n",
        "    clip_duration_minutes = 10 # Select duration of individual clips here\n",
        "    main(input_file, output_folder, num_clips, clip_duration_minutes)"
      ],
      "metadata": {
        "id": "j8pMmKwR8NeR"
      },
      "execution_count": null,
      "outputs": []
    },
    {
      "cell_type": "markdown",
      "source": [
        "###15 minute clips\n",
        "\n",
        "Code for creating 15 minute clips, in new folders, and naming the clips with the orginal file name, suffixed with 15 to denote its duration."
      ],
      "metadata": {
        "id": "nrfAa4mV_AjL"
      }
    },
    {
      "cell_type": "code",
      "source": [
        "def random_clip(input_file, output_file, clip_duration):\n",
        "    audio = AudioSegment.from_file(input_file)  # Loading audio file\n",
        "    max_start = len(audio) - clip_duration  # Calculating maximum start position\n",
        "    start_pos = random.randint(0, max_start)  # For a random start position\n",
        "    clipped_audio = audio[start_pos:start_pos + clip_duration]  # For the clipping\n",
        "    clipped_audio.export(output_file, format=\"wav\")  # Export the audio to WAV\n",
        "\n",
        "def main(input_file, output_folder, num_clips=5, clip_duration_minutes=30):\n",
        "    \"\"\"\n",
        "    Args:\n",
        "      input_file: Path to the input audio file.\n",
        "      output_folder: Path to the folder where clips will be saved.\n",
        "      num_clips: Number of clips to generate.\n",
        "      clip_duration_minutes: Duration of each clip in minutes.\n",
        "    \"\"\"\n",
        "    # Ensure the output folder exists\n",
        "    if not os.path.exists(output_folder):\n",
        "        os.makedirs(output_folder)\n",
        "\n",
        "    clip_duration = clip_duration_minutes * 60 * 1000  # Convert duration to milliseconds\n",
        "\n",
        "    # Extract the base name of the input file without extension\n",
        "    base_name = os.path.splitext(os.path.basename(input_file))[0]\n",
        "\n",
        "    # For loop for multiple clips\n",
        "    for i in range(num_clips):\n",
        "        output_file = os.path.join(output_folder, f\"{base_name}_clip_{i+1}_15.WAV\") # suffix the base name here (with 15 to denote duration in minutes)\n",
        "        random_clip(input_file, output_file, clip_duration)\n",
        "\n",
        "if __name__ == \"__main__\":\n",
        "    input_file = \"/content/drive/MyDrive/BirdNet/Test_files/birdsong_wav/XC727263 - Soundscape.wav\"\n",
        "    output_folder = \"/content/drive/MyDrive/BirdNet/Test_files/birdsong_wav/30_min_test_clips/XC727263/15_min\"\n",
        "    num_clips = 2 # Select number of clips to create here\n",
        "    clip_duration_minutes = 15 # Select duration of individual clips here\n",
        "    main(input_file, output_folder, num_clips, clip_duration_minutes)"
      ],
      "metadata": {
        "id": "dDLLTW6u_Hby"
      },
      "execution_count": null,
      "outputs": []
    }
  ]
}