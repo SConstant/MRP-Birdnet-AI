{
  "nbformat": 4,
  "nbformat_minor": 0,
  "metadata": {
    "colab": {
      "provenance": [],
      "authorship_tag": "ABX9TyPVHiaLF8BUQzOJ2BqnvjmF",
      "include_colab_link": true
    },
    "kernelspec": {
      "name": "python3",
      "display_name": "Python 3"
    },
    "language_info": {
      "name": "python"
    }
  },
  "cells": [
    {
      "cell_type": "markdown",
      "metadata": {
        "id": "view-in-github",
        "colab_type": "text"
      },
      "source": [
        "<a href=\"https://colab.research.google.com/github/SConstant/MRP-Birdnet-AI/blob/main/Random_Clipper.ipynb\" target=\"_parent\"><img src=\"https://colab.research.google.com/assets/colab-badge.svg\" alt=\"Open In Colab\"/></a>"
      ]
    },
    {
      "cell_type": "markdown",
      "source": [
        "# MRP: Birdsong-AI\n",
        "\n",
        "## Random Audio Splitter\n",
        "\n",
        "This notebook contains code for an radom audio spitter, it will randomly select clips of audio from larger recordings\n",
        "\n",
        "This section will randomly select 30 minute base samples from recorded dawn choruses or recordings taken from xeno-canto"
      ],
      "metadata": {
        "id": "JJK2FgaBQ3Uo"
      }
    },
    {
      "cell_type": "markdown",
      "source": [
        "## Installations\n",
        "\n",
        "### Auto-clipper\n",
        "\n",
        "*   Pydub\n",
        "##### for audio file manipulation\n",
        "*   ffmpeg\n",
        "##### for audio codec accessibility in python\n",
        "*   glob\n",
        "##### for clipping random samples (unix thing, file names)  \n",
        "*   random\n",
        "##### for clipping random sample\n",
        "\n",
        "*   numpy\n",
        "##### working in arrays\n",
        "*   os\n",
        "##### for working with filepaths and uploading/opening files\n",
        "*   wave\n",
        "##### for working with wav file types/codecs"
      ],
      "metadata": {
        "id": "UWka5-rnW4Ou"
      }
    },
    {
      "cell_type": "markdown",
      "source": [
        "**Working with audio**"
      ],
      "metadata": {
        "id": "fEt7ALMbXua2"
      }
    },
    {
      "cell_type": "code",
      "execution_count": 1,
      "metadata": {
        "colab": {
          "base_uri": "https://localhost:8080/"
        },
        "id": "qtg9GQl19dh2",
        "outputId": "725d672b-4133-4e15-9263-6b60be31b1c2"
      },
      "outputs": [
        {
          "output_type": "stream",
          "name": "stdout",
          "text": [
            "Collecting pydub\n",
            "  Downloading pydub-0.25.1-py2.py3-none-any.whl (32 kB)\n",
            "Installing collected packages: pydub\n",
            "Successfully installed pydub-0.25.1\n"
          ]
        }
      ],
      "source": [
        "#install pydub\n",
        "!pip install pydub\n",
        "\n",
        "# import required libraries\n",
        "from pydub import AudioSegment\n",
        "from pydub.playback import play\n",
        "from os import path"
      ]
    },
    {
      "cell_type": "code",
      "source": [
        "!pip install ffmpeg-python"
      ],
      "metadata": {
        "id": "e2ZDh5r2MRwX",
        "colab": {
          "base_uri": "https://localhost:8080/"
        },
        "outputId": "0276ad89-f3e2-45c2-9d4b-6da61a0a3e97"
      },
      "execution_count": 2,
      "outputs": [
        {
          "output_type": "stream",
          "name": "stdout",
          "text": [
            "Collecting ffmpeg-python\n",
            "  Downloading ffmpeg_python-0.2.0-py3-none-any.whl (25 kB)\n",
            "Requirement already satisfied: future in /usr/local/lib/python3.10/dist-packages (from ffmpeg-python) (0.18.3)\n",
            "Installing collected packages: ffmpeg-python\n",
            "Successfully installed ffmpeg-python-0.2.0\n"
          ]
        }
      ]
    },
    {
      "cell_type": "markdown",
      "source": [
        "**Random Sampling**"
      ],
      "metadata": {
        "id": "5qyK39WfXqzP"
      }
    },
    {
      "cell_type": "code",
      "source": [
        "import glob #for random sampling\n",
        "import random #To pick random clips"
      ],
      "metadata": {
        "id": "FALZvQ2pMeTA"
      },
      "execution_count": 3,
      "outputs": []
    },
    {
      "cell_type": "markdown",
      "source": [
        "**Audio Splitter**"
      ],
      "metadata": {
        "id": "P_L5YcNhX2lG"
      }
    },
    {
      "cell_type": "code",
      "source": [
        "import numpy as np # For working with arrays (file names)"
      ],
      "metadata": {
        "id": "y5ma1Ja4Mqg4"
      },
      "execution_count": 5,
      "outputs": []
    },
    {
      "cell_type": "code",
      "source": [
        "import os # To manipulate filepaths and open/upload files\n",
        "import wave # To work with WAV files\n"
      ],
      "metadata": {
        "id": "G9D-j7-Pu07x"
      },
      "execution_count": 4,
      "outputs": []
    },
    {
      "cell_type": "markdown",
      "source": [
        "**Mount Drive**"
      ],
      "metadata": {
        "id": "tYJcnw5eYKIO"
      }
    },
    {
      "cell_type": "code",
      "source": [
        "from google.colab import drive\n",
        "drive.mount('/content/drive')"
      ],
      "metadata": {
        "id": "N8EnYwnnoSpc",
        "colab": {
          "base_uri": "https://localhost:8080/"
        },
        "outputId": "ab778f4c-5c95-4747-b408-607d6b13ada3"
      },
      "execution_count": 6,
      "outputs": [
        {
          "output_type": "stream",
          "name": "stdout",
          "text": [
            "Mounted at /content/drive\n"
          ]
        }
      ]
    },
    {
      "cell_type": "code",
      "source": [],
      "metadata": {
        "id": "0zFlkcBLzjzM"
      },
      "execution_count": null,
      "outputs": []
    },
    {
      "cell_type": "code",
      "source": [
        "# Printing CWD before\n",
        "current_path()\n",
        "\n",
        "# Changing the CWD\n",
        "os.chdir('/content/drive/MyDrive/Bird_validation_Sophie/Batch_3_SP12_GW/20240412')\n",
        "\n",
        "# Printing CWD after\n",
        "current_path()"
      ],
      "metadata": {
        "colab": {
          "base_uri": "https://localhost:8080/"
        },
        "id": "hO6NDpenzwoU",
        "outputId": "5908983e-facd-44d8-907b-3a67a26e645c"
      },
      "execution_count": 16,
      "outputs": [
        {
          "output_type": "stream",
          "name": "stdout",
          "text": [
            "Current working directory before\n",
            "/content/drive/MyDrive/BirdNet/Test_files\n",
            "\n",
            "Current working directory before\n",
            "/content/drive/MyDrive/Bird_validation_Sophie/Batch_3_SP12_GW/20240412\n",
            "\n"
          ]
        }
      ]
    },
    {
      "cell_type": "markdown",
      "source": [
        "## Random Auto-clipper\n",
        "\n",
        "picks a random point to clip a section of a specified duration\n",
        "\n",
        "Use this to randomly clip 30 minute segments"
      ],
      "metadata": {
        "id": "cn060zC4WN70"
      }
    },
    {
      "cell_type": "code",
      "source": [
        "def random_clip(input_file, output_file, clip_duration):\n",
        "\n",
        "    audio = AudioSegment.from_file(input_file)  # Loading audio file\n",
        "\n",
        "    max_start = len(audio) - clip_duration  # Calculating maximum start position\n",
        "\n",
        "    start_pos = random.randint(0, max_start)  # For a random start position\n",
        "\n",
        "    clipped_audio = audio[start_pos:start_pos + clip_duration]  # For the clipping\n",
        "\n",
        "    clipped_audio.export(output_file, format=\"wav\")  # Export the audio to mp3\n",
        "\n",
        "def main(input_file, output_folder, num_clips = 5, clip_duration_minutes=30):\n",
        "    \"\"\"\n",
        "\n",
        "    Args:\n",
        "      input_file:\n",
        "      output_folder:\n",
        "      num_clips:\n",
        "      clip_duration_minutes:\n",
        "    \"\"\"\n"
      ],
      "metadata": {
        "id": "bT3yB25Kdtwl"
      },
      "execution_count": 20,
      "outputs": []
    },
    {
      "cell_type": "code",
      "source": [
        "# naming the generated clips\n",
        "\n",
        "if __name__ == \"__main__\":\n",
        "    input_file = \"/content/drive/MyDrive/Bird_validation_Sophie/Batch_3_SP12_GW/20240412/20240412_043005.WAV\"\n",
        "    output_folder = \"/content/drive/MyDrive/Bird_validation_Sophie/Batch_3_SP12_GW/20240412/20240412_043005_30min\""
      ],
      "metadata": {
        "id": "Er3NuvS57d1F"
      },
      "execution_count": 32,
      "outputs": []
    },
    {
      "cell_type": "code",
      "source": [
        "    main(input_file, output_folder)"
      ],
      "metadata": {
        "id": "wuK-XQfz9q6B"
      },
      "execution_count": 28,
      "outputs": []
    },
    {
      "cell_type": "code",
      "source": [
        "# Ensure the output folder exists\n",
        "if not os.path.exists(output_folder):\n",
        "        os.makedirs(output_folder)\n",
        "\n",
        "clip_duration = 300 * 1000  # Convert duration to milliseconds\n"
      ],
      "metadata": {
        "id": "C8O5OhKl7J9x"
      },
      "execution_count": 29,
      "outputs": []
    },
    {
      "cell_type": "code",
      "source": [
        "# For loop for multiple clips\n",
        "\n",
        "for i in range(num_clips):\n",
        "        output_file = os.path.join(output_folder, f\"clip_{i+1}.mp3\")\n",
        "        random_clip(input_file, output_file, clip_duration)\n",
        "\n"
      ],
      "metadata": {
        "colab": {
          "base_uri": "https://localhost:8080/",
          "height": 356
        },
        "id": "UvGUhzwP7IYv",
        "outputId": "c3e12507-2a38-418e-ed62-f12f61ba13a0"
      },
      "execution_count": 31,
      "outputs": [
        {
          "output_type": "error",
          "ename": "IsADirectoryError",
          "evalue": "[Errno 21] Is a directory: '/content/drive/MyDrive/Bird_validation_Sophie/Batch_3_SP12_GW/20240412'",
          "traceback": [
            "\u001b[0;31m---------------------------------------------------------------------------\u001b[0m",
            "\u001b[0;31mIsADirectoryError\u001b[0m                         Traceback (most recent call last)",
            "\u001b[0;32m<ipython-input-31-8b45fd6f0240>\u001b[0m in \u001b[0;36m<cell line: 3>\u001b[0;34m()\u001b[0m\n\u001b[1;32m      3\u001b[0m \u001b[0;32mfor\u001b[0m \u001b[0mi\u001b[0m \u001b[0;32min\u001b[0m \u001b[0mrange\u001b[0m\u001b[0;34m(\u001b[0m\u001b[0mnum_clips\u001b[0m\u001b[0;34m)\u001b[0m\u001b[0;34m:\u001b[0m\u001b[0;34m\u001b[0m\u001b[0;34m\u001b[0m\u001b[0m\n\u001b[1;32m      4\u001b[0m         \u001b[0moutput_file\u001b[0m \u001b[0;34m=\u001b[0m \u001b[0mos\u001b[0m\u001b[0;34m.\u001b[0m\u001b[0mpath\u001b[0m\u001b[0;34m.\u001b[0m\u001b[0mjoin\u001b[0m\u001b[0;34m(\u001b[0m\u001b[0moutput_folder\u001b[0m\u001b[0;34m,\u001b[0m \u001b[0;34mf\"clip_{i+1}.mp3\"\u001b[0m\u001b[0;34m)\u001b[0m\u001b[0;34m\u001b[0m\u001b[0;34m\u001b[0m\u001b[0m\n\u001b[0;32m----> 5\u001b[0;31m         \u001b[0mrandom_clip\u001b[0m\u001b[0;34m(\u001b[0m\u001b[0minput_file\u001b[0m\u001b[0;34m,\u001b[0m \u001b[0moutput_file\u001b[0m\u001b[0;34m,\u001b[0m \u001b[0mclip_duration\u001b[0m\u001b[0;34m)\u001b[0m\u001b[0;34m\u001b[0m\u001b[0;34m\u001b[0m\u001b[0m\n\u001b[0m\u001b[1;32m      6\u001b[0m \u001b[0;34m\u001b[0m\u001b[0m\n",
            "\u001b[0;32m<ipython-input-20-ca92ec70ba2a>\u001b[0m in \u001b[0;36mrandom_clip\u001b[0;34m(input_file, output_file, clip_duration)\u001b[0m\n\u001b[1;32m      1\u001b[0m \u001b[0;32mdef\u001b[0m \u001b[0mrandom_clip\u001b[0m\u001b[0;34m(\u001b[0m\u001b[0minput_file\u001b[0m\u001b[0;34m,\u001b[0m \u001b[0moutput_file\u001b[0m\u001b[0;34m,\u001b[0m \u001b[0mclip_duration\u001b[0m\u001b[0;34m)\u001b[0m\u001b[0;34m:\u001b[0m\u001b[0;34m\u001b[0m\u001b[0;34m\u001b[0m\u001b[0m\n\u001b[1;32m      2\u001b[0m \u001b[0;34m\u001b[0m\u001b[0m\n\u001b[0;32m----> 3\u001b[0;31m     \u001b[0maudio\u001b[0m \u001b[0;34m=\u001b[0m \u001b[0mAudioSegment\u001b[0m\u001b[0;34m.\u001b[0m\u001b[0mfrom_file\u001b[0m\u001b[0;34m(\u001b[0m\u001b[0minput_file\u001b[0m\u001b[0;34m)\u001b[0m  \u001b[0;31m# Loading audio file\u001b[0m\u001b[0;34m\u001b[0m\u001b[0;34m\u001b[0m\u001b[0m\n\u001b[0m\u001b[1;32m      4\u001b[0m \u001b[0;34m\u001b[0m\u001b[0m\n\u001b[1;32m      5\u001b[0m     \u001b[0mmax_start\u001b[0m \u001b[0;34m=\u001b[0m \u001b[0mlen\u001b[0m\u001b[0;34m(\u001b[0m\u001b[0maudio\u001b[0m\u001b[0;34m)\u001b[0m \u001b[0;34m-\u001b[0m \u001b[0mclip_duration\u001b[0m  \u001b[0;31m# Calculating maximum start position\u001b[0m\u001b[0;34m\u001b[0m\u001b[0;34m\u001b[0m\u001b[0m\n",
            "\u001b[0;32m/usr/local/lib/python3.10/dist-packages/pydub/audio_segment.py\u001b[0m in \u001b[0;36mfrom_file\u001b[0;34m(cls, file, format, codec, parameters, start_second, duration, **kwargs)\u001b[0m\n\u001b[1;32m    649\u001b[0m         \u001b[0;32mexcept\u001b[0m \u001b[0mTypeError\u001b[0m\u001b[0;34m:\u001b[0m\u001b[0;34m\u001b[0m\u001b[0;34m\u001b[0m\u001b[0m\n\u001b[1;32m    650\u001b[0m             \u001b[0mfilename\u001b[0m \u001b[0;34m=\u001b[0m \u001b[0;32mNone\u001b[0m\u001b[0;34m\u001b[0m\u001b[0;34m\u001b[0m\u001b[0m\n\u001b[0;32m--> 651\u001b[0;31m         \u001b[0mfile\u001b[0m\u001b[0;34m,\u001b[0m \u001b[0mclose_file\u001b[0m \u001b[0;34m=\u001b[0m \u001b[0m_fd_or_path_or_tempfile\u001b[0m\u001b[0;34m(\u001b[0m\u001b[0mfile\u001b[0m\u001b[0;34m,\u001b[0m \u001b[0;34m'rb'\u001b[0m\u001b[0;34m,\u001b[0m \u001b[0mtempfile\u001b[0m\u001b[0;34m=\u001b[0m\u001b[0;32mFalse\u001b[0m\u001b[0;34m)\u001b[0m\u001b[0;34m\u001b[0m\u001b[0;34m\u001b[0m\u001b[0m\n\u001b[0m\u001b[1;32m    652\u001b[0m \u001b[0;34m\u001b[0m\u001b[0m\n\u001b[1;32m    653\u001b[0m         \u001b[0;32mif\u001b[0m \u001b[0mformat\u001b[0m\u001b[0;34m:\u001b[0m\u001b[0;34m\u001b[0m\u001b[0;34m\u001b[0m\u001b[0m\n",
            "\u001b[0;32m/usr/local/lib/python3.10/dist-packages/pydub/utils.py\u001b[0m in \u001b[0;36m_fd_or_path_or_tempfile\u001b[0;34m(fd, mode, tempfile)\u001b[0m\n\u001b[1;32m     58\u001b[0m \u001b[0;34m\u001b[0m\u001b[0m\n\u001b[1;32m     59\u001b[0m     \u001b[0;32mif\u001b[0m \u001b[0misinstance\u001b[0m\u001b[0;34m(\u001b[0m\u001b[0mfd\u001b[0m\u001b[0;34m,\u001b[0m \u001b[0mbasestring\u001b[0m\u001b[0;34m)\u001b[0m\u001b[0;34m:\u001b[0m\u001b[0;34m\u001b[0m\u001b[0;34m\u001b[0m\u001b[0m\n\u001b[0;32m---> 60\u001b[0;31m         \u001b[0mfd\u001b[0m \u001b[0;34m=\u001b[0m \u001b[0mopen\u001b[0m\u001b[0;34m(\u001b[0m\u001b[0mfd\u001b[0m\u001b[0;34m,\u001b[0m \u001b[0mmode\u001b[0m\u001b[0;34m=\u001b[0m\u001b[0mmode\u001b[0m\u001b[0;34m)\u001b[0m\u001b[0;34m\u001b[0m\u001b[0;34m\u001b[0m\u001b[0m\n\u001b[0m\u001b[1;32m     61\u001b[0m         \u001b[0mclose_fd\u001b[0m \u001b[0;34m=\u001b[0m \u001b[0;32mTrue\u001b[0m\u001b[0;34m\u001b[0m\u001b[0;34m\u001b[0m\u001b[0m\n\u001b[1;32m     62\u001b[0m \u001b[0;34m\u001b[0m\u001b[0m\n",
            "\u001b[0;31mIsADirectoryError\u001b[0m: [Errno 21] Is a directory: '/content/drive/MyDrive/Bird_validation_Sophie/Batch_3_SP12_GW/20240412'"
          ]
        }
      ]
    }
  ]
}